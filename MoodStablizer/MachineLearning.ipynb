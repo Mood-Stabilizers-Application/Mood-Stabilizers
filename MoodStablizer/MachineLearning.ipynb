{
 "cells": [
  {
   "cell_type": "code",
   "execution_count": 7,
   "source": [
    "import tensorflow as tf\n",
    "from tensorflow.keras.optimizers import Adam\n"
   ],
   "outputs": [],
   "metadata": {}
  },
  {
   "cell_type": "code",
   "execution_count": 8,
   "source": [
    "image_size = (48, 48)\n",
    "batch_size = 64\n",
    "\n",
    "train_ds = tf.keras.preprocessing.image.ImageDataGenerator(rescale=1.0 / 255).flow_from_directory(\n",
    "    \"../data/train\",\n",
    "    target_size=image_size,\n",
    "    batch_size=batch_size,\n",
    "    color_mode=\"grayscale\",\n",
    "    class_mode=\"categorical\",\n",
    ")\n",
    "val_ds = tf.keras.preprocessing.image.ImageDataGenerator(rescale=1.0 / 255).flow_from_directory(\n",
    "    \"../data/test\",\n",
    "    target_size=image_size,\n",
    "    batch_size=batch_size,\n",
    "    color_mode=\"grayscale\",\n",
    "    class_mode=\"categorical\",\n",
    ")"
   ],
   "outputs": [
    {
     "output_type": "stream",
     "name": "stdout",
     "text": [
      "Found 15743 images belonging to 7 classes.\n",
      "Found 3756 images belonging to 7 classes.\n"
     ]
    }
   ],
   "metadata": {}
  },
  {
   "cell_type": "code",
   "execution_count": null,
   "source": [
    "\n",
    "# def model():\n",
    "model = tf.keras.Sequential()\n",
    "lay = tf.keras.layers\n",
    "model.add(lay.Conv2D(32, kernel_size=(3, 3), activation=\"relu\", input_shape=(48, 48, 1)))\n",
    "model.add(lay.Conv2D(64, kernel_size=(3, 3), activation=\"relu\"))\n",
    "model.add(lay.MaxPooling2D(pool_size=(2, 2)))\n",
    "model.add(lay.Dropout(0.25))\n",
    "\n",
    "model.add(lay.Conv2D(128, kernel_size=(3, 3), activation=\"relu\"))\n",
    "model.add(lay.MaxPooling2D(pool_size=(2, 2)))\n",
    "model.add(lay.Conv2D(128, kernel_size=(3, 3), activation=\"relu\"))\n",
    "model.add(lay.MaxPooling2D(pool_size=(2, 2)))\n",
    "model.add(lay.Dropout(0.25))\n",
    "\n",
    "model.add(lay.Flatten())\n",
    "model.add(lay.Dense(1024, activation=\"relu\"))\n",
    "model.add(lay.Dropout(0.5))\n",
    "model.add(lay.Dense(7, activation=\"softmax\"))\n",
    "\n",
    "    # return model\n",
    "\n",
    "# model()"
   ],
   "outputs": [],
   "metadata": {}
  }
 ],
 "metadata": {
  "orig_nbformat": 4,
  "language_info": {
   "name": "python",
   "version": "3.8.10",
   "mimetype": "text/x-python",
   "codemirror_mode": {
    "name": "ipython",
    "version": 3
   },
   "pygments_lexer": "ipython3",
   "nbconvert_exporter": "python",
   "file_extension": ".py"
  },
  "kernelspec": {
   "name": "python3",
   "display_name": "Python 3.8.10 64-bit"
  },
  "interpreter": {
   "hash": "916dbcbb3f70747c44a77c7bcd40155683ae19c65e1c03b4aa3499c5328201f1"
  }
 },
 "nbformat": 4,
 "nbformat_minor": 2
}