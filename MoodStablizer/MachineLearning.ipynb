{
 "cells": [
  {
   "cell_type": "code",
   "execution_count": 20,
   "source": [
    "import tensorflow as tf\n",
    "from tensorflow.keras.optimizers import Adam\n"
   ],
   "outputs": [],
   "metadata": {}
  },
  {
   "cell_type": "code",
   "execution_count": 26,
   "source": [
    "image_size = (48, 48)\n",
    "batch_size = 64\n",
    "\n",
    "train_ds = tf.keras.preprocessing.image.ImageDataGenerator(rescale=1.0 / 255).flow_from_directory(\n",
    "    \"../data/train\",\n",
    "    target_size=image_size,\n",
    "    batch_size=batch_size,\n",
    "    color_mode=\"grayscale\",\n",
    "    class_mode=\"categorical\",\n",
    ")\n",
    "val_ds = tf.keras.preprocessing.image.ImageDataGenerator(rescale=1.0 / 255).flow_from_directory(\n",
    "    \"../data/test\",\n",
    "    target_size=image_size,\n",
    "    batch_size=batch_size,\n",
    "    color_mode=\"grayscale\",\n",
    "    class_mode=\"categorical\",\n",
    ")"
   ],
   "outputs": [
    {
     "output_type": "stream",
     "name": "stdout",
     "text": [
      "Found 15743 images belonging to 7 classes.\n",
      "Found 5114 images belonging to 7 classes.\n"
     ]
    }
   ],
   "metadata": {}
  },
  {
   "cell_type": "code",
   "execution_count": 22,
   "source": [
    "\n",
    "# def model():\n",
    "model = tf.keras.Sequential()\n",
    "lay = tf.keras.layers\n",
    "model.add(lay.Conv2D(32, kernel_size=(3, 3), activation=\"relu\", input_shape=(48, 48, 1)))\n",
    "model.add(lay.Conv2D(64, kernel_size=(3, 3), activation=\"relu\"))\n",
    "model.add(lay.MaxPooling2D(pool_size=(2, 2)))\n",
    "model.add(lay.Dropout(0.25))\n",
    "\n",
    "model.add(lay.Conv2D(128, kernel_size=(3, 3), activation=\"relu\"))\n",
    "model.add(lay.MaxPooling2D(pool_size=(2, 2)))\n",
    "model.add(lay.Conv2D(128, kernel_size=(3, 3), activation=\"relu\"))\n",
    "model.add(lay.MaxPooling2D(pool_size=(2, 2)))\n",
    "model.add(lay.Dropout(0.25))\n",
    "\n",
    "model.add(lay.Flatten())\n",
    "model.add(lay.Dense(1024, activation=\"relu\"))\n",
    "model.add(lay.Dropout(0.5))\n",
    "model.add(lay.Dense(7, activation=\"softmax\"))\n",
    "\n",
    "    # return model\n",
    "\n",
    "# model()"
   ],
   "outputs": [],
   "metadata": {}
  },
  {
   "cell_type": "code",
   "execution_count": 23,
   "source": [
    "emotion_dict = {\n",
    "    0: \"Angry\",\n",
    "    1: \"Disgusted\",\n",
    "    2: \"Fearful\",\n",
    "    3: \"Happy\",\n",
    "    4: \"Neutral\",\n",
    "    5: \"Sad\",\n",
    "    6: \"Surprised\",\n",
    "}"
   ],
   "outputs": [],
   "metadata": {}
  },
  {
   "cell_type": "code",
   "execution_count": 24,
   "source": [
    "model.compile(\n",
    "    loss=\"categorical_crossentropy\",\n",
    "    optimizer=Adam(lr=0.0001, decay=1e-6),\n",
    "    metrics=[\"accuracy\"],\n",
    ")"
   ],
   "outputs": [],
   "metadata": {}
  },
  {
   "cell_type": "code",
   "execution_count": 18,
   "source": [
    "emotion_model_info = model.fit_generator(\n",
    "    train_ds,\n",
    "    steps_per_epoch=3709 // 64,\n",
    "    epochs=1,\n",
    "    validation_data=val_ds,\n",
    "    validation_steps=7000 // 64,\n",
    ")"
   ],
   "outputs": [
    {
     "output_type": "stream",
     "name": "stdout",
     "text": [
      "57/57 [==============================] - ETA: 0s - loss: 1.2961 - accuracy: 0.4187WARNING:tensorflow:Your input ran out of data; interrupting training. Make sure that your dataset or generator can generate at least `steps_per_epoch * epochs` batches (in this case, 109 batches). You may need to use the repeat() function when building your dataset.\n",
      "57/57 [==============================] - 44s 754ms/step - loss: 1.2961 - accuracy: 0.4187 - val_loss: 1.9118 - val_accuracy: 0.3469\n"
     ]
    }
   ],
   "metadata": {}
  },
  {
   "cell_type": "code",
   "execution_count": 19,
   "source": [
    "model.save_weights(\"emotion_model2.h5\")"
   ],
   "outputs": [],
   "metadata": {}
  }
 ],
 "metadata": {
  "orig_nbformat": 4,
  "language_info": {
   "name": "python",
   "version": "3.8.10",
   "mimetype": "text/x-python",
   "codemirror_mode": {
    "name": "ipython",
    "version": 3
   },
   "pygments_lexer": "ipython3",
   "nbconvert_exporter": "python",
   "file_extension": ".py"
  },
  "kernelspec": {
   "name": "python3",
   "display_name": "Python 3.8.10 64-bit"
  },
  "interpreter": {
   "hash": "916dbcbb3f70747c44a77c7bcd40155683ae19c65e1c03b4aa3499c5328201f1"
  }
 },
 "nbformat": 4,
 "nbformat_minor": 2
}