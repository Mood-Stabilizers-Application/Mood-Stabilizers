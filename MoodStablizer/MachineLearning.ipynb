{
 "cells": [
  {
   "cell_type": "code",
   "execution_count": 1,
   "source": [
    "import tensorflow as tf\r\n",
    "from tensorflow.keras.optimizers import Adam\r\n"
   ],
   "outputs": [
    {
     "output_type": "stream",
     "name": "stderr",
     "text": [
      "2021-08-24 19:30:48.071008: W tensorflow/stream_executor/platform/default/dso_loader.cc:64] Could not load dynamic library 'libcudart.so.11.0'; dlerror: libcudart.so.11.0: cannot open shared object file: No such file or directory\n",
      "2021-08-24 19:30:48.071090: I tensorflow/stream_executor/cuda/cudart_stub.cc:29] Ignore above cudart dlerror if you do not have a GPU set up on your machine.\n"
     ]
    }
   ],
   "metadata": {}
  },
  {
   "cell_type": "code",
   "execution_count": 2,
   "source": [
    "image_size = (48, 48)\r\n",
    "batch_size = 64\r\n",
    "\r\n",
    "train_ds = tf.keras.preprocessing.image.ImageDataGenerator(rescale=1.0 / 255).flow_from_directory(\r\n",
    "    \"../data/train\",\r\n",
    "    target_size=image_size,\r\n",
    "    batch_size=batch_size,\r\n",
    "    color_mode=\"grayscale\",\r\n",
    "    class_mode=\"categorical\",\r\n",
    ")\r\n",
    "val_ds = tf.keras.preprocessing.image.ImageDataGenerator(rescale=1.0 / 255).flow_from_directory(\r\n",
    "    \"../data/test\",\r\n",
    "    target_size=image_size,\r\n",
    "    batch_size=batch_size,\r\n",
    "    color_mode=\"grayscale\",\r\n",
    "    class_mode=\"categorical\",\r\n",
    ")\r\n",
    "#  "
   ],
   "outputs": [
    {
     "output_type": "stream",
     "name": "stdout",
     "text": [
      "Found 15743 images belonging to 7 classes.\n",
      "Found 3756 images belonging to 7 classes.\n"
     ]
    }
   ],
   "metadata": {}
  },
  {
   "cell_type": "code",
   "execution_count": 3,
   "source": [
    "\r\n",
    "# create themodel after adding the layers above each other\r\n",
    "\r\n",
    "model = tf.keras.Sequential()\r\n",
    "lay = tf.keras.layers\r\n",
    "model.add(lay.Conv2D(32, kernel_size=(3, 3), activation=\"relu\", input_shape=(48, 48, 1)))\r\n",
    "model.add(lay.Conv2D(64, kernel_size=(3, 3), activation=\"relu\"))\r\n",
    "model.add(lay.MaxPooling2D(pool_size=(2, 2)))\r\n",
    "model.add(lay.Dropout(0.25))\r\n",
    "\r\n",
    "model.add(lay.Conv2D(128, kernel_size=(3, 3), activation=\"relu\"))\r\n",
    "model.add(lay.MaxPooling2D(pool_size=(2, 2)))\r\n",
    "model.add(lay.Conv2D(128, kernel_size=(3, 3), activation=\"relu\"))\r\n",
    "model.add(lay.MaxPooling2D(pool_size=(2, 2)))\r\n",
    "model.add(lay.Dropout(0.25))\r\n",
    "\r\n",
    "model.add(lay.Flatten())\r\n",
    "model.add(lay.Dense(1024, activation=\"relu\"))\r\n",
    "model.add(lay.Dropout(0.5))\r\n",
    "model.add(lay.Dense(7, activation=\"softmax\"))\r\n",
    "\r\n"
   ],
   "outputs": [
    {
     "output_type": "stream",
     "name": "stderr",
     "text": [
      "2021-08-24 19:30:55.097323: W tensorflow/stream_executor/platform/default/dso_loader.cc:64] Could not load dynamic library 'libcuda.so.1'; dlerror: libcuda.so.1: cannot open shared object file: No such file or directory\n",
      "2021-08-24 19:30:55.097365: W tensorflow/stream_executor/cuda/cuda_driver.cc:269] failed call to cuInit: UNKNOWN ERROR (303)\n",
      "2021-08-24 19:30:55.097398: I tensorflow/stream_executor/cuda/cuda_diagnostics.cc:156] kernel driver does not appear to be running on this host (abdelmajed-Inspiron-5559): /proc/driver/nvidia/version does not exist\n",
      "2021-08-24 19:30:55.097863: I tensorflow/core/platform/cpu_feature_guard.cc:142] This TensorFlow binary is optimized with oneAPI Deep Neural Network Library (oneDNN) to use the following CPU instructions in performance-critical operations:  AVX2 FMA\n",
      "To enable them in other operations, rebuild TensorFlow with the appropriate compiler flags.\n"
     ]
    }
   ],
   "metadata": {}
  },
  {
   "cell_type": "code",
   "execution_count": 4,
   "source": [
    "#  7 moods are considered in the applications\r\n",
    "emotion_dict = {\r\n",
    "    0: \"Angry\",\r\n",
    "    1: \"Disgusted\",\r\n",
    "    2: \"Fearful\",\r\n",
    "    3: \"Happy\",\r\n",
    "    4: \"Neutral\",\r\n",
    "    5: \"Sad\",\r\n",
    "    6: \"Surprised\",\r\n",
    "}"
   ],
   "outputs": [],
   "metadata": {}
  },
  {
   "cell_type": "code",
   "execution_count": 5,
   "source": [
    "#  compile the Sequential layers in the model\r\n",
    "model.compile(\r\n",
    "    loss=\"categorical_crossentropy\",\r\n",
    "    optimizer=Adam(lr=0.0001, decay=1e-6),\r\n",
    "    metrics=[\"accuracy\"],\r\n",
    ")"
   ],
   "outputs": [
    {
     "output_type": "stream",
     "name": "stderr",
     "text": [
      "/home/abdelmajed/.local/lib/python3.8/site-packages/keras/optimizer_v2/optimizer_v2.py:355: UserWarning: The `lr` argument is deprecated, use `learning_rate` instead.\n",
      "  warnings.warn(\n"
     ]
    }
   ],
   "metadata": {}
  },
  {
   "cell_type": "code",
   "execution_count": 6,
   "source": [
    "# the machine learning proccess starts here\r\n",
    "emotion_model_info = model.fit_generator(\r\n",
    "    train_ds,\r\n",
    "    steps_per_epoch=500 // 64,\r\n",
    "    epochs=1,\r\n",
    "    validation_data=val_ds,\r\n",
    "    validation_steps=7000 // 64,\r\n",
    ")"
   ],
   "outputs": [
    {
     "output_type": "stream",
     "name": "stderr",
     "text": [
      "/home/abdelmajed/.local/lib/python3.8/site-packages/keras/engine/training.py:1972: UserWarning: `Model.fit_generator` is deprecated and will be removed in a future version. Please use `Model.fit`, which supports generators.\n",
      "  warnings.warn('`Model.fit_generator` is deprecated and '\n",
      "2021-08-24 19:30:56.731452: I tensorflow/compiler/mlir/mlir_graph_optimization_pass.cc:185] None of the MLIR Optimization Passes are enabled (registered 2)\n",
      "2021-08-24 19:30:58.154102: W tensorflow/core/framework/cpu_allocator_impl.cc:80] Allocation of 17334272 exceeds 10% of free system memory.\n",
      "2021-08-24 19:30:58.277293: W tensorflow/core/framework/cpu_allocator_impl.cc:80] Allocation of 31719424 exceeds 10% of free system memory.\n",
      "2021-08-24 19:30:58.447735: W tensorflow/core/framework/cpu_allocator_impl.cc:80] Allocation of 13107200 exceeds 10% of free system memory.\n",
      "2021-08-24 19:30:58.712782: W tensorflow/core/framework/cpu_allocator_impl.cc:80] Allocation of 13107200 exceeds 10% of free system memory.\n",
      "2021-08-24 19:30:58.754881: W tensorflow/core/framework/cpu_allocator_impl.cc:80] Allocation of 21196800 exceeds 10% of free system memory.\n"
     ]
    },
    {
     "output_type": "stream",
     "name": "stdout",
     "text": [
      "57/57 [==============================] - ETA: 0s - loss: 1.2775 - accuracy: 0.4382WARNING:tensorflow:Your input ran out of data; interrupting training. Make sure that your dataset or generator can generate at least `steps_per_epoch * epochs` batches (in this case, 109 batches). You may need to use the repeat() function when building your dataset.\n",
      "57/57 [==============================] - 76s 1s/step - loss: 1.2775 - accuracy: 0.4382 - val_loss: 1.1491 - val_accuracy: 0.4723\n"
     ]
    }
   ],
   "metadata": {}
  },
  {
   "cell_type": "code",
   "execution_count": 7,
   "source": [
    "#  finally save the model as h5 file \r\n",
    "model.save('emotion_model2.h5')\r\n"
   ],
   "outputs": [],
   "metadata": {}
  }
 ],
 "metadata": {
  "orig_nbformat": 4,
  "language_info": {
   "name": "python",
   "version": "3.8.10",
   "mimetype": "text/x-python",
   "codemirror_mode": {
    "name": "ipython",
    "version": 3
   },
   "pygments_lexer": "ipython3",
   "nbconvert_exporter": "python",
   "file_extension": ".py"
  },
  "kernelspec": {
   "name": "python3",
   "display_name": "Python 3.8.10 64-bit"
  },
  "interpreter": {
   "hash": "916dbcbb3f70747c44a77c7bcd40155683ae19c65e1c03b4aa3499c5328201f1"
  }
 },
 "nbformat": 4,
 "nbformat_minor": 2
}