{
 "cells": [
  {
   "cell_type": "code",
   "execution_count": 8,
   "source": [
    "import tensorflow as tf\n",
    "from tensorflow.keras.optimizers import Adam\n"
   ],
   "outputs": [],
   "metadata": {}
  },
  {
   "cell_type": "code",
   "execution_count": 9,
   "source": [
    "image_size = (48, 48)\n",
    "batch_size = 64\n",
    "\n",
    "train_ds = tf.keras.preprocessing.image.ImageDataGenerator(rescale=1.0 / 255).flow_from_directory(\n",
    "    \"../data/train\",\n",
    "    target_size=image_size,\n",
    "    batch_size=batch_size,\n",
    "    color_mode=\"grayscale\",\n",
    "    class_mode=\"categorical\",\n",
    ")\n",
    "val_ds = tf.keras.preprocessing.image.ImageDataGenerator(rescale=1.0 / 255).flow_from_directory(\n",
    "    \"../data/test\",\n",
    "    target_size=image_size,\n",
    "    batch_size=batch_size,\n",
    "    color_mode=\"grayscale\",\n",
    "    class_mode=\"categorical\",\n",
    ")"
   ],
   "outputs": [
    {
     "output_type": "stream",
     "name": "stdout",
     "text": [
      "Found 15743 images belonging to 7 classes.\n",
      "Found 3756 images belonging to 7 classes.\n"
     ]
    }
   ],
   "metadata": {}
  },
  {
   "cell_type": "code",
   "execution_count": 10,
   "source": [
    "# def model():\n",
    "model = tf.keras.Sequential()\n",
    "lay = tf.keras.layers\n",
    "model.add(lay.Conv2D(32, kernel_size=(3, 3), activation=\"relu\", input_shape=(48, 48, 1)))\n",
    "model.add(lay.Conv2D(64, kernel_size=(3, 3), activation=\"relu\"))\n",
    "model.add(lay.MaxPooling2D(pool_size=(2, 2)))\n",
    "model.add(lay.Dropout(0.25))\n",
    "\n",
    "model.add(lay.Conv2D(128, kernel_size=(3, 3), activation=\"relu\"))\n",
    "model.add(lay.MaxPooling2D(pool_size=(2, 2)))\n",
    "model.add(lay.Conv2D(128, kernel_size=(3, 3), activation=\"relu\"))\n",
    "model.add(lay.MaxPooling2D(pool_size=(2, 2)))\n",
    "model.add(lay.Dropout(0.25))\n",
    "\n",
    "model.add(lay.Flatten())\n",
    "model.add(lay.Dense(1024, activation=\"relu\"))\n",
    "model.add(lay.Dropout(0.5))\n",
    "model.add(lay.Dense(7, activation=\"softmax\"))\n",
    "\n",
    "    # return model\n",
    "\n",
    "# model()"
   ],
   "outputs": [],
   "metadata": {}
  },
  {
   "cell_type": "code",
   "execution_count": 11,
   "source": [
    "\n",
    "emotion_dict = {\n",
    "    0: \"Angry\",\n",
    "    1: \"Disgusted\",\n",
    "    2: \"Fearful\",\n",
    "    3: \"Happy\",\n",
    "    4: \"Neutral\",\n",
    "    5: \"Sad\",\n",
    "    6: \"Surprised\",\n",
    "}\n"
   ],
   "outputs": [],
   "metadata": {}
  },
  {
   "cell_type": "code",
   "execution_count": 12,
   "source": [
    "\n",
    "model.compile(\n",
    "    loss=\"categorical_crossentropy\",\n",
    "    optimizer=Adam(lr=0.0001, decay=1e-6),\n",
    "    metrics=[\"accuracy\"],\n",
    ")\n"
   ],
   "outputs": [
    {
     "output_type": "stream",
     "name": "stderr",
     "text": [
      "/home/abdelmajed/.local/lib/python3.8/site-packages/keras/optimizer_v2/optimizer_v2.py:355: UserWarning: The `lr` argument is deprecated, use `learning_rate` instead.\n",
      "  warnings.warn(\n"
     ]
    }
   ],
   "metadata": {}
  },
  {
   "cell_type": "code",
   "execution_count": 13,
   "source": [
    "emotion_model_info = model.fit_generator(\n",
    "    train_ds,\n",
    "    steps_per_epoch=3709 // 64,\n",
    "    epochs=1,\n",
    "    validation_data=val_ds,\n",
    "    validation_steps=7000 // 64,\n",
    ")"
   ],
   "outputs": [
    {
     "output_type": "stream",
     "name": "stderr",
     "text": [
      "/home/abdelmajed/.local/lib/python3.8/site-packages/keras/engine/training.py:1972: UserWarning: `Model.fit_generator` is deprecated and will be removed in a future version. Please use `Model.fit`, which supports generators.\n",
      "  warnings.warn('`Model.fit_generator` is deprecated and '\n"
     ]
    },
    {
     "output_type": "stream",
     "name": "stdout",
     "text": [
      "57/57 [==============================] - ETA: 0s - loss: 1.3171 - accuracy: 0.4192WARNING:tensorflow:Your input ran out of data; interrupting training. Make sure that your dataset or generator can generate at least `steps_per_epoch * epochs` batches (in this case, 109 batches). You may need to use the repeat() function when building your dataset.\n",
      "57/57 [==============================] - 78s 1s/step - loss: 1.3171 - accuracy: 0.4192 - val_loss: 1.1845 - val_accuracy: 0.4723\n"
     ]
    }
   ],
   "metadata": {}
  },
  {
   "cell_type": "code",
   "execution_count": 14,
   "source": [
    "model.save_weights(\"emotion_model2.h5\")\n"
   ],
   "outputs": [],
   "metadata": {}
  }
 ],
 "metadata": {
  "orig_nbformat": 4,
  "language_info": {
   "name": "python",
   "version": "3.8.10",
   "mimetype": "text/x-python",
   "codemirror_mode": {
    "name": "ipython",
    "version": 3
   },
   "pygments_lexer": "ipython3",
   "nbconvert_exporter": "python",
   "file_extension": ".py"
  },
  "kernelspec": {
   "name": "python3",
   "display_name": "Python 3.8.10 64-bit"
  },
  "interpreter": {
   "hash": "916dbcbb3f70747c44a77c7bcd40155683ae19c65e1c03b4aa3499c5328201f1"
  }
 },
 "nbformat": 4,
 "nbformat_minor": 2
}